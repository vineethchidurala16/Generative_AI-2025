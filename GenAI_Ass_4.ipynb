{
  "nbformat": 4,
  "nbformat_minor": 0,
  "metadata": {
    "colab": {
      "provenance": [],
      "authorship_tag": "ABX9TyOwnO71mwscNnVWdp7o0BjV",
      "include_colab_link": true
    },
    "kernelspec": {
      "name": "python3",
      "display_name": "Python 3"
    },
    "language_info": {
      "name": "python"
    }
  },
  "cells": [
    {
      "cell_type": "markdown",
      "metadata": {
        "id": "view-in-github",
        "colab_type": "text"
      },
      "source": [
        "<a href=\"https://colab.research.google.com/github/vineethchidurala16/Generative_AI-2025/blob/main/GenAI_Ass_4.ipynb\" target=\"_parent\"><img src=\"https://colab.research.google.com/assets/colab-badge.svg\" alt=\"Open In Colab\"/></a>"
      ]
    },
    {
      "cell_type": "code",
      "execution_count": 1,
      "metadata": {
        "colab": {
          "base_uri": "https://localhost:8080/"
        },
        "id": "gJx6EWwPy-vA",
        "outputId": "6390de73-9baa-41ba-880a-51e41ce6f9c3"
      },
      "outputs": [
        {
          "output_type": "stream",
          "name": "stdout",
          "text": [
            "Epoch 0: MSE = 1.555423\n",
            "Final Training MSE: 0.070971\n",
            "Final Test MSE: 0.206000\n",
            "Enter x1, x2, x3: 0.5 0.6 0.7\n",
            "Predicted Output: 0.737721\n"
          ]
        }
      ],
      "source": [
        "import numpy as np\n",
        "X_train = np.array([[0.1, 0.2, 0.3],\n",
        "                   [0.2, 0.3, 0.4],\n",
        "                   [0.3, 0.4, 0.5],\n",
        "                   [0.5, 0.6, 0.7],\n",
        "                   [0.1, 0.3, 0.5],\n",
        "                   [0.2, 0.4, 0.6],\n",
        "                   [0.3, 0.5, 0.7],\n",
        "                   [0.4, 0.6, 0.8],\n",
        "                   [0.5, 0.7, 0.1]])\n",
        "y_train = np.array([0.14, 0.20, 0.26, 0.38, 0.22, 0.28, 0.34, 0.40, 0.22])\n",
        "X_test = np.array([[0.6, 0.7, 0.8],\n",
        "                  [0.7, 0.8, 0.9]])\n",
        "y_test = np.array([0.44, 0.50])\n",
        "np.random.seed(42)\n",
        "weights = np.random.rand(3)\n",
        "bias = np.random.rand(1)\n",
        "learning_rate = 0.01\n",
        "epochs = 100\n",
        "# Training the model using gradient descent\n",
        "for epoch in range(epochs):\n",
        "    y_pred = np.dot(X_train, weights) + bias  # Forward pass (Linear function)\n",
        "    error = y_pred - y_train  # Error computation\n",
        "    # Compute gradients\n",
        "    dW = np.dot(X_train.T, error) / len(X_train)\n",
        "    dB = np.sum(error) / len(X_train)\n",
        "    # Update weights and bias\n",
        "    weights -= learning_rate * dW\n",
        "    bias -= learning_rate * dB\n",
        "    # Print loss every 100 epochs\n",
        "    if epoch % 100 == 0:\n",
        "        mse = np.mean(error ** 2)\n",
        "        print(f\"Epoch {epoch}: MSE = {mse:.6f}\")\n",
        "# Calculate MSE for training and test data\n",
        "def mean_squared_error(X, y):\n",
        "    y_pred = np.dot(X, weights) + bias\n",
        "    return np.mean((y_pred - y) ** 2)\n",
        "train_mse = mean_squared_error(X_train, y_train)\n",
        "test_mse = mean_squared_error(X_test, y_test)\n",
        "print(f\"Final Training MSE: {train_mse:.6f}\")\n",
        "print(f\"Final Test MSE: {test_mse:.6f}\")\n",
        "# User Input Prediction\n",
        "user_input = np.array(list(map(float, input(\"Enter x1, x2, x3: \").split())))\n",
        "predicted_output = np.dot(user_input, weights) + bias\n",
        "print(f\"Predicted Output: {predicted_output[0]:.6f}\")"
      ]
    },
    {
      "cell_type": "code",
      "source": [
        "def sigmoid(x):\n",
        "    return 1 / (1 + np.exp(-x))\n",
        "def sigmoid_derivative(x):\n",
        "    return x * (1 - x)\n",
        "def train_ann(X, y, epochs=1000, learning_rate=0.1):\n",
        "    np.random.seed(42)\n",
        "    weights = np.random.rand(X.shape[1])\n",
        "    bias = np.random.rand()\n",
        "    for _ in range(epochs):\n",
        "        # Forward pass\n",
        "        linear_output = np.dot(X, weights) + bias\n",
        "        y_pred = sigmoid(linear_output)\n",
        "        # Compute error\n",
        "        error = y - y_pred\n",
        "        # Backpropagation\n",
        "        d_weights = np.dot(X.T, error * sigmoid_derivative(y_pred)) / X.shape[0]\n",
        "        d_bias = np.sum(error * sigmoid_derivative(y_pred)) / X.shape[0]\n",
        "        # Update weights and bias\n",
        "        weights += learning_rate * d_weights\n",
        "        bias += learning_rate * d_bias\n",
        "    return weights, bias\n",
        "def mean_squared_error(y_true, y_pred):\n",
        "    return np.mean((y_true - y_pred) ** 2)\n",
        "def predict(X, weights, bias):\n",
        "    return sigmoid(np.dot(X, weights) + bias)\n",
        "train_X = np.array([\n",
        "    [0.1, 0.2, 0.3],\n",
        "    [0.2, 0.3, 0.4],\n",
        "    [0.3, 0.4, 0.5],\n",
        "    [0.5, 0.6, 0.7],\n",
        "    [0.1, 0.3, 0.5],\n",
        "    [0.2, 0.4, 0.6],\n",
        "    [0.3, 0.5, 0.7],\n",
        "    [0.4, 0.6, 0.8],\n",
        "    [0.5, 0.7, 0.1]\n",
        "])\n",
        "train_y = np.array([0.5349, 0.5498, 0.5646, 0.5939, 0.5548, 0.5695, 0.5842, 0.5987, 0.5548])\n",
        "weights, bias = train_ann(train_X, train_y)\n",
        "test_X = np.array([\n",
        "    [0.6, 0.7, 0.8],\n",
        "    [0.7, 0.8, 0.9]\n",
        "])\n",
        "test_y = np.array([0.6083, 0.6225])\n",
        "# Predictions\n",
        "train_predictions = predict(train_X, weights, bias)\n",
        "test_predictions = predict(test_X, weights, bias)\n",
        "# MSE Calculation\n",
        "train_mse = mean_squared_error(train_y, train_predictions)\n",
        "test_mse = mean_squared_error(test_y, test_predictions)\n",
        "print(f\"Training MSE: {train_mse}\")\n",
        "print(f\"Testing MSE: {test_mse}\")\n",
        "# User Input Prediction\n",
        "x_input = np.array([float(i) for i in input(\"Enter three values separated by space: \").split()])\n",
        "output = predict(x_input, weights, bias)\n",
        "print(f\"Predicted Output: {output}\")"
      ],
      "metadata": {
        "colab": {
          "base_uri": "https://localhost:8080/"
        },
        "id": "tANfxB4m6olx",
        "outputId": "349571f8-5bbf-47fa-99e1-fe027e6b7517"
      },
      "execution_count": 2,
      "outputs": [
        {
          "output_type": "stream",
          "name": "stdout",
          "text": [
            "Training MSE: 0.00019827266619758076\n",
            "Testing MSE: 0.0007241244444640872\n",
            "Enter three values separated by space: 0.6 0.7 0.8\n",
            "Predicted Output: 0.6307033023772503\n"
          ]
        }
      ]
    },
    {
      "cell_type": "code",
      "source": [],
      "metadata": {
        "id": "p_XnfPJy7D70"
      },
      "execution_count": null,
      "outputs": []
    }
  ]
}