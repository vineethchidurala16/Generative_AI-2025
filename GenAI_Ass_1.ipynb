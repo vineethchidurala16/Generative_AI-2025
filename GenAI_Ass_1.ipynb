{
  "nbformat": 4,
  "nbformat_minor": 0,
  "metadata": {
    "colab": {
      "provenance": []
    },
    "kernelspec": {
      "name": "python3",
      "display_name": "Python 3"
    },
    "language_info": {
      "name": "python"
    }
  },
  "cells": [
    {
      "cell_type": "markdown",
      "source": [
        "#Question-1\n"
      ],
      "metadata": {
        "id": "egwfKRZFxCFp"
      }
    },
    {
      "cell_type": "code",
      "source": [
        "import numpy as np\n",
        "from sklearn.metrics import mean_squared_error, mean_absolute_error, r2_score\n",
        "y_act=np.array([20,30,40,50,60])\n",
        "y_pred=np.array([20.5,30.3,40.2,50.6,60.7])"
      ],
      "metadata": {
        "id": "h4YH9JtWxHXZ"
      },
      "execution_count": 5,
      "outputs": []
    },
    {
      "cell_type": "markdown",
      "source": [
        "\n",
        "# Mean Absolute Error (MAE)"
      ],
      "metadata": {
        "id": "cjqAx4AXxxEz"
      }
    },
    {
      "cell_type": "code",
      "source": [
        "mae = np.mean(np.abs(y_act - y_pred))\n",
        "print(f\"Mean Absolute Error (MAE): {mae}\")"
      ],
      "metadata": {
        "colab": {
          "base_uri": "https://localhost:8080/"
        },
        "id": "KPJwewxoxLNQ",
        "outputId": "3d600ddb-42be-4e47-c014-59dce380bdfb"
      },
      "execution_count": 6,
      "outputs": [
        {
          "output_type": "stream",
          "name": "stdout",
          "text": [
            "Mean Absolute Error (MAE): 0.4600000000000016\n"
          ]
        }
      ]
    },
    {
      "cell_type": "code",
      "source": [
        "mse = np.mean((y_act - y_pred) ** 2)\n",
        "print(f\"Mean Squared Error (MSE): {mse}\")"
      ],
      "metadata": {
        "colab": {
          "base_uri": "https://localhost:8080/"
        },
        "id": "WXDzra0wxSrH",
        "outputId": "7842f9dd-1e21-41fe-d12d-eafeb0772905"
      },
      "execution_count": 7,
      "outputs": [
        {
          "output_type": "stream",
          "name": "stdout",
          "text": [
            "Mean Squared Error (MSE): 0.24600000000000147\n"
          ]
        }
      ]
    },
    {
      "cell_type": "markdown",
      "source": [
        "\n",
        "# Root Mean Square Error (RMSE)"
      ],
      "metadata": {
        "id": "Cw2xhogCx3e_"
      }
    },
    {
      "cell_type": "code",
      "source": [
        "rmse = np.sqrt(mse)\n",
        "print(f\"Root Mean Square Error (RMSE): {rmse}\")"
      ],
      "metadata": {
        "colab": {
          "base_uri": "https://localhost:8080/"
        },
        "id": "FojP1TjFxU1o",
        "outputId": "0462211b-3d9b-4a75-edc6-964df04fd306"
      },
      "execution_count": 8,
      "outputs": [
        {
          "output_type": "stream",
          "name": "stdout",
          "text": [
            "Root Mean Square Error (RMSE): 0.49598387070549127\n"
          ]
        }
      ]
    },
    {
      "cell_type": "markdown",
      "source": [
        "\n",
        "# Mean Absolute Percentage Error (MAPE)"
      ],
      "metadata": {
        "id": "oVP5yPlRx-g8"
      }
    },
    {
      "cell_type": "code",
      "source": [
        "mape = np.mean(np.abs((y_act - y_pred) / y_act)) * 100\n",
        "print(f\"Mean Absolute Percentage Error (MAPE): {mape}\")"
      ],
      "metadata": {
        "colab": {
          "base_uri": "https://localhost:8080/"
        },
        "id": "ITQDsj50xXNw",
        "outputId": "716de2e6-466d-4fda-f171-456f3ae794d9"
      },
      "execution_count": 9,
      "outputs": [
        {
          "output_type": "stream",
          "name": "stdout",
          "text": [
            "Mean Absolute Percentage Error (MAPE): 1.273333333333337\n"
          ]
        }
      ]
    },
    {
      "cell_type": "markdown",
      "source": [
        "\n",
        "#R square value"
      ],
      "metadata": {
        "id": "bd-PFmQsyB1C"
      }
    },
    {
      "cell_type": "code",
      "source": [
        "r2 = r2_score(y_act, y_pred)\n",
        "print(f\"R-squared (R2): {r2}\")"
      ],
      "metadata": {
        "colab": {
          "base_uri": "https://localhost:8080/"
        },
        "id": "xYZb9OtOxZkT",
        "outputId": "dc5adf89-91f2-4de8-a82d-f740d8426209"
      },
      "execution_count": 10,
      "outputs": [
        {
          "output_type": "stream",
          "name": "stdout",
          "text": [
            "R-squared (R2): 0.99877\n"
          ]
        }
      ]
    },
    {
      "cell_type": "markdown",
      "source": [
        "#Question-2"
      ],
      "metadata": {
        "id": "8eSSb5ufxd8P"
      }
    },
    {
      "cell_type": "code",
      "source": [
        "y_act1=np.array([0,0,0,0,0])\n",
        "y_pred1=np.array([0,0,1,2,2])"
      ],
      "metadata": {
        "id": "Qgxk8UfExbwj"
      },
      "execution_count": 11,
      "outputs": []
    },
    {
      "cell_type": "markdown",
      "source": [
        "\n",
        "# Mean Squared Error (MSE)"
      ],
      "metadata": {
        "id": "Hgu0VqeeyFFA"
      }
    },
    {
      "cell_type": "code",
      "source": [
        "mse1 = mean_squared_error(y_act1, y_pred1)\n",
        "print(f\"Mean Squared Error (MSE): {mse1}\")"
      ],
      "metadata": {
        "colab": {
          "base_uri": "https://localhost:8080/"
        },
        "id": "_1xkG6VmxjCv",
        "outputId": "dd2173e3-c700-41ac-928f-7add30a219d1"
      },
      "execution_count": 12,
      "outputs": [
        {
          "output_type": "stream",
          "name": "stdout",
          "text": [
            "Mean Squared Error (MSE): 1.8\n"
          ]
        }
      ]
    },
    {
      "cell_type": "markdown",
      "source": [
        "\n",
        "# Root Mean Square Error (RMSE)"
      ],
      "metadata": {
        "id": "wKJFXJiuyKdu"
      }
    },
    {
      "cell_type": "code",
      "source": [
        "rmse1 = np.sqrt(mse1)\n",
        "print(f\"Root Mean Square Error (RMSE): {rmse1}\")"
      ],
      "metadata": {
        "colab": {
          "base_uri": "https://localhost:8080/"
        },
        "id": "8V_TVZxNxlkY",
        "outputId": "9eb7655a-20ef-4f1b-f964-93aab914dfdc"
      },
      "execution_count": 13,
      "outputs": [
        {
          "output_type": "stream",
          "name": "stdout",
          "text": [
            "Root Mean Square Error (RMSE): 1.3416407864998738\n"
          ]
        }
      ]
    },
    {
      "cell_type": "code",
      "source": [
        "mae1 = mean_absolute_error(y_act1, y_pred1)\n",
        "print(f\"Mean Absolute Error (MAE): {mae1}\")"
      ],
      "metadata": {
        "colab": {
          "base_uri": "https://localhost:8080/"
        },
        "id": "_ZkL-Ewuxnty",
        "outputId": "8b849e4e-861c-4683-d4a0-984a674b2214"
      },
      "execution_count": 15,
      "outputs": [
        {
          "output_type": "stream",
          "name": "stdout",
          "text": [
            "Mean Absolute Error (MAE): 1.0\n"
          ]
        }
      ]
    },
    {
      "cell_type": "markdown",
      "source": [
        "# R-squared (R2) value"
      ],
      "metadata": {
        "id": "lgR4xF0CyQS6"
      }
    },
    {
      "cell_type": "code",
      "source": [
        "r2_1 = r2_score(y_act1, y_pred1)\n",
        "print(f\"R-squared (R2): {r2_1}\")"
      ],
      "metadata": {
        "colab": {
          "base_uri": "https://localhost:8080/"
        },
        "id": "vvW40y33xqXP",
        "outputId": "8faaa212-c3ac-4624-b1f5-de1c7667016e"
      },
      "execution_count": 16,
      "outputs": [
        {
          "output_type": "stream",
          "name": "stdout",
          "text": [
            "R-squared (R2): 0.0\n"
          ]
        }
      ]
    }
  ]
}